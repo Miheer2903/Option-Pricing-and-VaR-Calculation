{
  "nbformat": 4,
  "nbformat_minor": 0,
  "metadata": {
    "colab": {
      "provenance": []
    },
    "kernelspec": {
      "name": "python3",
      "display_name": "Python 3"
    },
    "language_info": {
      "name": "python"
    }
  },
  "cells": [
    {
      "cell_type": "markdown",
      "metadata": {
        "id": "92DWS13ye3_B"
      },
      "source": [
        "**Question 1- Find VaR by Parametric Method**"
      ]
    },
    {
      "cell_type": "code",
      "metadata": {
        "id": "FbaEbVVezaUv"
      },
      "source": [
        "import numpy as np\n",
        "import pandas as pd\n",
        "from scipy.stats import norm\n",
        "import fix_yahoo_finance as yf\n"
      ],
      "execution_count": null,
      "outputs": []
    },
    {
      "cell_type": "code",
      "metadata": {
        "colab": {
          "base_uri": "https://localhost:8080/"
        },
        "id": "Dg8oTjQg1GXs",
        "outputId": "68784242-a339-4e9e-bee2-b2e375ba1cbd"
      },
      "source": [
        "stocks= ['DLF.NS','NTPC.NS', 'HDFCBANK.NS']\n",
        "df=yf.download(stocks, \"2017-09-19\", \"2019-10-02\")\n",
        "\n",
        "initial_investment=1000000\n",
        "\n"
      ],
      "execution_count": null,
      "outputs": [
        {
          "output_type": "stream",
          "text": [
            "[*********************100%***********************]  3 of 3 downloaded\n"
          ],
          "name": "stdout"
        }
      ]
    },
    {
      "cell_type": "code",
      "metadata": {
        "colab": {
          "base_uri": "https://localhost:8080/",
          "height": 266
        },
        "id": "uf1flDSvvuRZ",
        "outputId": "48354ba2-e274-4eb3-c1a7-1caca2ca9f22"
      },
      "source": [
        "df=df[[\"Adj Close\"]]\n",
        "df.head()"
      ],
      "execution_count": null,
      "outputs": [
        {
          "output_type": "execute_result",
          "data": {
            "text/html": [
              "<div>\n",
              "<style scoped>\n",
              "    .dataframe tbody tr th:only-of-type {\n",
              "        vertical-align: middle;\n",
              "    }\n",
              "\n",
              "    .dataframe tbody tr th {\n",
              "        vertical-align: top;\n",
              "    }\n",
              "\n",
              "    .dataframe thead tr th {\n",
              "        text-align: left;\n",
              "    }\n",
              "\n",
              "    .dataframe thead tr:last-of-type th {\n",
              "        text-align: right;\n",
              "    }\n",
              "</style>\n",
              "<table border=\"1\" class=\"dataframe\">\n",
              "  <thead>\n",
              "    <tr>\n",
              "      <th></th>\n",
              "      <th colspan=\"3\" halign=\"left\">Adj Close</th>\n",
              "    </tr>\n",
              "    <tr>\n",
              "      <th></th>\n",
              "      <th>DLF.NS</th>\n",
              "      <th>HDFCBANK.NS</th>\n",
              "      <th>NTPC.NS</th>\n",
              "    </tr>\n",
              "    <tr>\n",
              "      <th>Date</th>\n",
              "      <th></th>\n",
              "      <th></th>\n",
              "      <th></th>\n",
              "    </tr>\n",
              "  </thead>\n",
              "  <tbody>\n",
              "    <tr>\n",
              "      <th>2017-09-19</th>\n",
              "      <td>184.834198</td>\n",
              "      <td>911.275696</td>\n",
              "      <td>118.306862</td>\n",
              "    </tr>\n",
              "    <tr>\n",
              "      <th>2017-09-20</th>\n",
              "      <td>183.913422</td>\n",
              "      <td>910.856995</td>\n",
              "      <td>117.466812</td>\n",
              "    </tr>\n",
              "    <tr>\n",
              "      <th>2017-09-21</th>\n",
              "      <td>179.358002</td>\n",
              "      <td>906.053528</td>\n",
              "      <td>117.746834</td>\n",
              "    </tr>\n",
              "    <tr>\n",
              "      <th>2017-09-22</th>\n",
              "      <td>168.163269</td>\n",
              "      <td>898.663635</td>\n",
              "      <td>116.206734</td>\n",
              "    </tr>\n",
              "    <tr>\n",
              "      <th>2017-09-25</th>\n",
              "      <td>161.475510</td>\n",
              "      <td>886.667358</td>\n",
              "      <td>116.381752</td>\n",
              "    </tr>\n",
              "  </tbody>\n",
              "</table>\n",
              "</div>"
            ],
            "text/plain": [
              "             Adj Close                        \n",
              "                DLF.NS HDFCBANK.NS     NTPC.NS\n",
              "Date                                          \n",
              "2017-09-19  184.834198  911.275696  118.306862\n",
              "2017-09-20  183.913422  910.856995  117.466812\n",
              "2017-09-21  179.358002  906.053528  117.746834\n",
              "2017-09-22  168.163269  898.663635  116.206734\n",
              "2017-09-25  161.475510  886.667358  116.381752"
            ]
          },
          "metadata": {
            "tags": []
          },
          "execution_count": 163
        }
      ]
    },
    {
      "cell_type": "code",
      "metadata": {
        "colab": {
          "base_uri": "https://localhost:8080/",
          "height": 235
        },
        "id": "Npu5wKuNvMsx",
        "outputId": "be261d76-d769-44b6-98c4-9dba183e865d"
      },
      "source": [
        "df_returns= df.pct_change()\n",
        "df_returns.columns = ['_'.join(col) for col in df_returns.columns.values]\n",
        "df_returns.rename(columns = {'Adj Close_DLF.NS': 'DLF returns', 'Adj Close_HDFCBANK.NS': 'HDFC returns', 'Adj Close_NTPC.NS':'NTPC returns'}, inplace = True)\n",
        "df_returns.head()"
      ],
      "execution_count": null,
      "outputs": [
        {
          "output_type": "execute_result",
          "data": {
            "text/html": [
              "<div>\n",
              "<style scoped>\n",
              "    .dataframe tbody tr th:only-of-type {\n",
              "        vertical-align: middle;\n",
              "    }\n",
              "\n",
              "    .dataframe tbody tr th {\n",
              "        vertical-align: top;\n",
              "    }\n",
              "\n",
              "    .dataframe thead th {\n",
              "        text-align: right;\n",
              "    }\n",
              "</style>\n",
              "<table border=\"1\" class=\"dataframe\">\n",
              "  <thead>\n",
              "    <tr style=\"text-align: right;\">\n",
              "      <th></th>\n",
              "      <th>DLF returns</th>\n",
              "      <th>HDFC returns</th>\n",
              "      <th>NTPC returns</th>\n",
              "    </tr>\n",
              "    <tr>\n",
              "      <th>Date</th>\n",
              "      <th></th>\n",
              "      <th></th>\n",
              "      <th></th>\n",
              "    </tr>\n",
              "  </thead>\n",
              "  <tbody>\n",
              "    <tr>\n",
              "      <th>2017-09-19</th>\n",
              "      <td>NaN</td>\n",
              "      <td>NaN</td>\n",
              "      <td>NaN</td>\n",
              "    </tr>\n",
              "    <tr>\n",
              "      <th>2017-09-20</th>\n",
              "      <td>-0.004982</td>\n",
              "      <td>-0.000459</td>\n",
              "      <td>-0.007101</td>\n",
              "    </tr>\n",
              "    <tr>\n",
              "      <th>2017-09-21</th>\n",
              "      <td>-0.024769</td>\n",
              "      <td>-0.005274</td>\n",
              "      <td>0.002384</td>\n",
              "    </tr>\n",
              "    <tr>\n",
              "      <th>2017-09-22</th>\n",
              "      <td>-0.062416</td>\n",
              "      <td>-0.008156</td>\n",
              "      <td>-0.013080</td>\n",
              "    </tr>\n",
              "    <tr>\n",
              "      <th>2017-09-25</th>\n",
              "      <td>-0.039769</td>\n",
              "      <td>-0.013349</td>\n",
              "      <td>0.001506</td>\n",
              "    </tr>\n",
              "  </tbody>\n",
              "</table>\n",
              "</div>"
            ],
            "text/plain": [
              "            DLF returns  HDFC returns  NTPC returns\n",
              "Date                                               \n",
              "2017-09-19          NaN           NaN           NaN\n",
              "2017-09-20    -0.004982     -0.000459     -0.007101\n",
              "2017-09-21    -0.024769     -0.005274      0.002384\n",
              "2017-09-22    -0.062416     -0.008156     -0.013080\n",
              "2017-09-25    -0.039769     -0.013349      0.001506"
            ]
          },
          "metadata": {
            "tags": []
          },
          "execution_count": 164
        }
      ]
    },
    {
      "cell_type": "code",
      "metadata": {
        "id": "o49THaaevmOR"
      },
      "source": [
        "avg=df_returns.mean()\n",
        "wmean= 0.4*avg[0]+0.4*avg[1]+0.2*avg[2]"
      ],
      "execution_count": null,
      "outputs": []
    },
    {
      "cell_type": "code",
      "metadata": {
        "colab": {
          "base_uri": "https://localhost:8080/",
          "height": 142
        },
        "id": "uUZv-mZhRT6G",
        "outputId": "9818995b-32a4-4db5-ef71-f42187bbff7c"
      },
      "source": [
        "cov_matrix = df_returns.cov()\n",
        "cov_matrix"
      ],
      "execution_count": null,
      "outputs": [
        {
          "output_type": "execute_result",
          "data": {
            "text/html": [
              "<div>\n",
              "<style scoped>\n",
              "    .dataframe tbody tr th:only-of-type {\n",
              "        vertical-align: middle;\n",
              "    }\n",
              "\n",
              "    .dataframe tbody tr th {\n",
              "        vertical-align: top;\n",
              "    }\n",
              "\n",
              "    .dataframe thead th {\n",
              "        text-align: right;\n",
              "    }\n",
              "</style>\n",
              "<table border=\"1\" class=\"dataframe\">\n",
              "  <thead>\n",
              "    <tr style=\"text-align: right;\">\n",
              "      <th></th>\n",
              "      <th>DLF returns</th>\n",
              "      <th>HDFC returns</th>\n",
              "      <th>NTPC returns</th>\n",
              "    </tr>\n",
              "  </thead>\n",
              "  <tbody>\n",
              "    <tr>\n",
              "      <th>DLF returns</th>\n",
              "      <td>0.000745</td>\n",
              "      <td>0.000084</td>\n",
              "      <td>0.000084</td>\n",
              "    </tr>\n",
              "    <tr>\n",
              "      <th>HDFC returns</th>\n",
              "      <td>0.000084</td>\n",
              "      <td>0.000127</td>\n",
              "      <td>0.000023</td>\n",
              "    </tr>\n",
              "    <tr>\n",
              "      <th>NTPC returns</th>\n",
              "      <td>0.000084</td>\n",
              "      <td>0.000023</td>\n",
              "      <td>0.000195</td>\n",
              "    </tr>\n",
              "  </tbody>\n",
              "</table>\n",
              "</div>"
            ],
            "text/plain": [
              "              DLF returns  HDFC returns  NTPC returns\n",
              "DLF returns      0.000745      0.000084      0.000084\n",
              "HDFC returns     0.000084      0.000127      0.000023\n",
              "NTPC returns     0.000084      0.000023      0.000195"
            ]
          },
          "metadata": {
            "tags": []
          },
          "execution_count": 166
        }
      ]
    },
    {
      "cell_type": "code",
      "metadata": {
        "id": "J-HPvENe1Gfs"
      },
      "source": [
        "std_dev= np.sqrt(0.000745*0.16+0.000127*0.16+0.000195*0.04+2*(0.16*0.000084+0.08*0.000084+0.08*0.000023))\n"
      ],
      "execution_count": null,
      "outputs": []
    },
    {
      "cell_type": "code",
      "metadata": {
        "id": "8WmBaGbyk1tW"
      },
      "source": [
        "mean_investment = (1 + wmean) * initial_investment           \n",
        "stdev_investment = std_dev * initial_investment"
      ],
      "execution_count": null,
      "outputs": []
    },
    {
      "cell_type": "code",
      "metadata": {
        "id": "vhHggybZk1Zz"
      },
      "source": [
        "conf_level = 0.01\n",
        "from scipy.stats import norm\n",
        "cutoff = norm.ppf(conf_level, mean_investment, stdev_investment)"
      ],
      "execution_count": null,
      "outputs": []
    },
    {
      "cell_type": "code",
      "metadata": {
        "id": "UeWuKLHQZKWH",
        "colab": {
          "base_uri": "https://localhost:8080/"
        },
        "outputId": "1953c453-b2a3-4f82-e51f-68e0a8b5bef0"
      },
      "source": [
        "VaR = initial_investment - cutoff\n",
        "print(\"The VaR at 99% Confidence Interval is\", VaR)"
      ],
      "execution_count": null,
      "outputs": [
        {
          "output_type": "stream",
          "text": [
            "The VaR at 99% Confidence Interval is 31980.14409847092\n"
          ],
          "name": "stdout"
        }
      ]
    },
    {
      "cell_type": "code",
      "metadata": {
        "id": "ksXgdQwOnwSv"
      },
      "source": [
        "##VaR_99= norm.ppf(1-0.99,wmean,std_dev)\n",
        "##print(\"The VaR at 99% confidence level is\", VaR_99*initial_investment)\n",
        "##output is same i.e. VaR= 31980.14409847092"
      ],
      "execution_count": null,
      "outputs": []
    },
    {
      "cell_type": "code",
      "metadata": {
        "id": "tR4vt27WtL3U"
      },
      "source": [],
      "execution_count": null,
      "outputs": []
    },
    {
      "cell_type": "markdown",
      "metadata": {
        "id": "-247vI-eTAB7"
      },
      "source": [
        " **Question 2- VaR with HISTORICAL DATA** "
      ]
    },
    {
      "cell_type": "code",
      "metadata": {
        "colab": {
          "base_uri": "https://localhost:8080/",
          "height": 235
        },
        "id": "CFm6zOa4TTey",
        "outputId": "57c85345-035c-4340-d909-7e3396ab720c"
      },
      "source": [
        "df_returns[\"mean\"]=0.4*df_returns[\"DLF returns\"]+0.4*df_returns[\"HDFC returns\"]+0.2*df_returns[\"NTPC returns\"]\n",
        "df_returns[\"investment_mean\"]=(0.4*df_returns[\"DLF returns\"]+0.4*df_returns[\"HDFC returns\"]+0.2*df_returns[\"NTPC returns\"])*initial_investment\n",
        "df_returns.head()"
      ],
      "execution_count": null,
      "outputs": [
        {
          "output_type": "execute_result",
          "data": {
            "text/html": [
              "<div>\n",
              "<style scoped>\n",
              "    .dataframe tbody tr th:only-of-type {\n",
              "        vertical-align: middle;\n",
              "    }\n",
              "\n",
              "    .dataframe tbody tr th {\n",
              "        vertical-align: top;\n",
              "    }\n",
              "\n",
              "    .dataframe thead th {\n",
              "        text-align: right;\n",
              "    }\n",
              "</style>\n",
              "<table border=\"1\" class=\"dataframe\">\n",
              "  <thead>\n",
              "    <tr style=\"text-align: right;\">\n",
              "      <th></th>\n",
              "      <th>DLF returns</th>\n",
              "      <th>HDFC returns</th>\n",
              "      <th>NTPC returns</th>\n",
              "      <th>mean</th>\n",
              "      <th>investment_mean</th>\n",
              "    </tr>\n",
              "    <tr>\n",
              "      <th>Date</th>\n",
              "      <th></th>\n",
              "      <th></th>\n",
              "      <th></th>\n",
              "      <th></th>\n",
              "      <th></th>\n",
              "    </tr>\n",
              "  </thead>\n",
              "  <tbody>\n",
              "    <tr>\n",
              "      <th>2017-09-19</th>\n",
              "      <td>NaN</td>\n",
              "      <td>NaN</td>\n",
              "      <td>NaN</td>\n",
              "      <td>NaN</td>\n",
              "      <td>NaN</td>\n",
              "    </tr>\n",
              "    <tr>\n",
              "      <th>2017-09-20</th>\n",
              "      <td>-0.004982</td>\n",
              "      <td>-0.000459</td>\n",
              "      <td>-0.007101</td>\n",
              "      <td>-0.003597</td>\n",
              "      <td>-3596.560148</td>\n",
              "    </tr>\n",
              "    <tr>\n",
              "      <th>2017-09-21</th>\n",
              "      <td>-0.024769</td>\n",
              "      <td>-0.005274</td>\n",
              "      <td>0.002384</td>\n",
              "      <td>-0.011540</td>\n",
              "      <td>-11540.408527</td>\n",
              "    </tr>\n",
              "    <tr>\n",
              "      <th>2017-09-22</th>\n",
              "      <td>-0.062416</td>\n",
              "      <td>-0.008156</td>\n",
              "      <td>-0.013080</td>\n",
              "      <td>-0.030845</td>\n",
              "      <td>-30844.634994</td>\n",
              "    </tr>\n",
              "    <tr>\n",
              "      <th>2017-09-25</th>\n",
              "      <td>-0.039769</td>\n",
              "      <td>-0.013349</td>\n",
              "      <td>0.001506</td>\n",
              "      <td>-0.020946</td>\n",
              "      <td>-20946.164751</td>\n",
              "    </tr>\n",
              "  </tbody>\n",
              "</table>\n",
              "</div>"
            ],
            "text/plain": [
              "            DLF returns  HDFC returns  NTPC returns      mean  investment_mean\n",
              "Date                                                                          \n",
              "2017-09-19          NaN           NaN           NaN       NaN              NaN\n",
              "2017-09-20    -0.004982     -0.000459     -0.007101 -0.003597     -3596.560148\n",
              "2017-09-21    -0.024769     -0.005274      0.002384 -0.011540    -11540.408527\n",
              "2017-09-22    -0.062416     -0.008156     -0.013080 -0.030845    -30844.634994\n",
              "2017-09-25    -0.039769     -0.013349      0.001506 -0.020946    -20946.164751"
            ]
          },
          "metadata": {
            "tags": []
          },
          "execution_count": 172
        }
      ]
    },
    {
      "cell_type": "code",
      "metadata": {
        "colab": {
          "base_uri": "https://localhost:8080/",
          "height": 450
        },
        "id": "12AsrPYMTTaq",
        "outputId": "66b52f1d-2d0c-49db-811a-2a384fb8e466"
      },
      "source": [
        "df_returns.sort_values(\"investment_mean\",ascending=False,inplace=True)\n",
        "df_returns"
      ],
      "execution_count": null,
      "outputs": [
        {
          "output_type": "execute_result",
          "data": {
            "text/html": [
              "<div>\n",
              "<style scoped>\n",
              "    .dataframe tbody tr th:only-of-type {\n",
              "        vertical-align: middle;\n",
              "    }\n",
              "\n",
              "    .dataframe tbody tr th {\n",
              "        vertical-align: top;\n",
              "    }\n",
              "\n",
              "    .dataframe thead th {\n",
              "        text-align: right;\n",
              "    }\n",
              "</style>\n",
              "<table border=\"1\" class=\"dataframe\">\n",
              "  <thead>\n",
              "    <tr style=\"text-align: right;\">\n",
              "      <th></th>\n",
              "      <th>DLF returns</th>\n",
              "      <th>HDFC returns</th>\n",
              "      <th>NTPC returns</th>\n",
              "      <th>mean</th>\n",
              "      <th>investment_mean</th>\n",
              "    </tr>\n",
              "    <tr>\n",
              "      <th>Date</th>\n",
              "      <th></th>\n",
              "      <th></th>\n",
              "      <th></th>\n",
              "      <th></th>\n",
              "      <th></th>\n",
              "    </tr>\n",
              "  </thead>\n",
              "  <tbody>\n",
              "    <tr>\n",
              "      <th>2019-09-20</th>\n",
              "      <td>0.083012</td>\n",
              "      <td>0.089505</td>\n",
              "      <td>-0.015201</td>\n",
              "      <td>0.065967</td>\n",
              "      <td>65966.559558</td>\n",
              "    </tr>\n",
              "    <tr>\n",
              "      <th>2019-05-20</th>\n",
              "      <td>0.056552</td>\n",
              "      <td>0.029741</td>\n",
              "      <td>0.029880</td>\n",
              "      <td>0.040493</td>\n",
              "      <td>40493.172838</td>\n",
              "    </tr>\n",
              "    <tr>\n",
              "      <th>2019-08-26</th>\n",
              "      <td>0.049310</td>\n",
              "      <td>0.043210</td>\n",
              "      <td>0.013080</td>\n",
              "      <td>0.039624</td>\n",
              "      <td>39623.875065</td>\n",
              "    </tr>\n",
              "    <tr>\n",
              "      <th>2018-10-10</th>\n",
              "      <td>0.066449</td>\n",
              "      <td>0.013681</td>\n",
              "      <td>0.016388</td>\n",
              "      <td>0.035330</td>\n",
              "      <td>35329.997494</td>\n",
              "    </tr>\n",
              "    <tr>\n",
              "      <th>2017-11-17</th>\n",
              "      <td>0.072592</td>\n",
              "      <td>0.009874</td>\n",
              "      <td>0.006234</td>\n",
              "      <td>0.034233</td>\n",
              "      <td>34233.493703</td>\n",
              "    </tr>\n",
              "    <tr>\n",
              "      <th>...</th>\n",
              "      <td>...</td>\n",
              "      <td>...</td>\n",
              "      <td>...</td>\n",
              "      <td>...</td>\n",
              "      <td>...</td>\n",
              "    </tr>\n",
              "    <tr>\n",
              "      <th>2018-10-17</th>\n",
              "      <td>-0.087259</td>\n",
              "      <td>-0.009108</td>\n",
              "      <td>-0.006404</td>\n",
              "      <td>-0.039828</td>\n",
              "      <td>-39827.655004</td>\n",
              "    </tr>\n",
              "    <tr>\n",
              "      <th>2019-01-25</th>\n",
              "      <td>-0.111111</td>\n",
              "      <td>-0.002973</td>\n",
              "      <td>-0.012496</td>\n",
              "      <td>-0.048133</td>\n",
              "      <td>-48132.735878</td>\n",
              "    </tr>\n",
              "    <tr>\n",
              "      <th>2018-02-02</th>\n",
              "      <td>-0.088163</td>\n",
              "      <td>-0.021671</td>\n",
              "      <td>-0.022774</td>\n",
              "      <td>-0.048489</td>\n",
              "      <td>-48488.581767</td>\n",
              "    </tr>\n",
              "    <tr>\n",
              "      <th>2019-08-22</th>\n",
              "      <td>-0.158217</td>\n",
              "      <td>-0.023250</td>\n",
              "      <td>-0.026718</td>\n",
              "      <td>-0.077930</td>\n",
              "      <td>-77930.045597</td>\n",
              "    </tr>\n",
              "    <tr>\n",
              "      <th>2017-09-19</th>\n",
              "      <td>NaN</td>\n",
              "      <td>NaN</td>\n",
              "      <td>NaN</td>\n",
              "      <td>NaN</td>\n",
              "      <td>NaN</td>\n",
              "    </tr>\n",
              "  </tbody>\n",
              "</table>\n",
              "<p>500 rows × 5 columns</p>\n",
              "</div>"
            ],
            "text/plain": [
              "            DLF returns  HDFC returns  NTPC returns      mean  investment_mean\n",
              "Date                                                                          \n",
              "2019-09-20     0.083012      0.089505     -0.015201  0.065967     65966.559558\n",
              "2019-05-20     0.056552      0.029741      0.029880  0.040493     40493.172838\n",
              "2019-08-26     0.049310      0.043210      0.013080  0.039624     39623.875065\n",
              "2018-10-10     0.066449      0.013681      0.016388  0.035330     35329.997494\n",
              "2017-11-17     0.072592      0.009874      0.006234  0.034233     34233.493703\n",
              "...                 ...           ...           ...       ...              ...\n",
              "2018-10-17    -0.087259     -0.009108     -0.006404 -0.039828    -39827.655004\n",
              "2019-01-25    -0.111111     -0.002973     -0.012496 -0.048133    -48132.735878\n",
              "2018-02-02    -0.088163     -0.021671     -0.022774 -0.048489    -48488.581767\n",
              "2019-08-22    -0.158217     -0.023250     -0.026718 -0.077930    -77930.045597\n",
              "2017-09-19          NaN           NaN           NaN       NaN              NaN\n",
              "\n",
              "[500 rows x 5 columns]"
            ]
          },
          "metadata": {
            "tags": []
          },
          "execution_count": 173
        }
      ]
    },
    {
      "cell_type": "code",
      "metadata": {
        "colab": {
          "base_uri": "https://localhost:8080/"
        },
        "id": "BVwHpDajTTZJ",
        "outputId": "f524f429-1319-48b3-9c6b-15ad03e9da71"
      },
      "source": [
        "VaR1=df_returns[\"investment_mean\"].quantile(0.01)\n",
        "VaR1"
      ],
      "execution_count": null,
      "outputs": [
        {
          "output_type": "execute_result",
          "data": {
            "text/plain": [
              "-35487.87468965388"
            ]
          },
          "metadata": {
            "tags": []
          },
          "execution_count": 174
        }
      ]
    },
    {
      "cell_type": "code",
      "metadata": {
        "id": "jEhx8wZvTTXQ",
        "colab": {
          "base_uri": "https://localhost:8080/"
        },
        "outputId": "f9ed4060-2e5c-49ed-c1ab-0a30bd7c9ff5"
      },
      "source": [
        "print(\"The VaR is\", -Var1)"
      ],
      "execution_count": null,
      "outputs": [
        {
          "output_type": "stream",
          "text": [
            "The VaR is 35487.87468965388\n"
          ],
          "name": "stdout"
        }
      ]
    },
    {
      "cell_type": "code",
      "metadata": {
        "id": "LShMoLNSvW5u"
      },
      "source": [],
      "execution_count": null,
      "outputs": []
    },
    {
      "cell_type": "markdown",
      "metadata": {
        "id": "ESGQJttQwSvi"
      },
      "source": [
        "**Question 3: Monte Carlo Simulation**"
      ]
    },
    {
      "cell_type": "markdown",
      "metadata": {
        "id": "dgfRzRNe3UwM"
      },
      "source": [
        "**For a European Call Option**"
      ]
    },
    {
      "cell_type": "code",
      "metadata": {
        "id": "mVIzX8EKzfmZ"
      },
      "source": [
        "from random import gauss\n",
        "from math import exp,sqrt\n",
        "import math"
      ],
      "execution_count": null,
      "outputs": []
    },
    {
      "cell_type": "code",
      "metadata": {
        "id": "-3uRMV3JvWzw"
      },
      "source": [
        "def mcs(stock_price,implied_vol,rate_of_return,time_to_maturity):\n",
        "  return stock_price*exp((rate_of_return-(0.5*(implied_vol**2)))*time_to_maturity+implied_vol*sqrt(time_to_maturity)*gauss(0,1))"
      ],
      "execution_count": null,
      "outputs": []
    },
    {
      "cell_type": "code",
      "metadata": {
        "id": "U8kqVAEAvWxo"
      },
      "source": [
        "def call(stock_price_at_T,strike_price):\n",
        "  return max(0,stock_price_at_T-strike_price)"
      ],
      "execution_count": null,
      "outputs": []
    },
    {
      "cell_type": "code",
      "metadata": {
        "id": "0KUR5-zEvWtb"
      },
      "source": [
        "stock_price=14825.35\n",
        "strike_price=14750\n",
        "call_implied_vol=0.1498\n",
        "rate_of_return=0.07\n",
        "time_to_maturity=1/12\n",
        "number_of_simulations=90000"
      ],
      "execution_count": null,
      "outputs": []
    },
    {
      "cell_type": "code",
      "metadata": {
        "id": "vIhFXuqDvWq6"
      },
      "source": [
        "call_payoff=[]\n"
      ],
      "execution_count": null,
      "outputs": []
    },
    {
      "cell_type": "code",
      "metadata": {
        "id": "NUPXtCvtvWo5"
      },
      "source": [
        "discount_factor=math.exp(rate_of_return*time_to_maturity)"
      ],
      "execution_count": null,
      "outputs": []
    },
    {
      "cell_type": "code",
      "metadata": {
        "id": "2Z9Ai_EPvWnT"
      },
      "source": [
        "for i in range(number_of_simulations):\n",
        "  stock_price_at_T= mcs(stock_price,call_implied_vol,rate_of_return,time_to_maturity)\n",
        "  call_payoff.append(call(stock_price_at_T,strike_price))"
      ],
      "execution_count": null,
      "outputs": []
    },
    {
      "cell_type": "code",
      "metadata": {
        "colab": {
          "base_uri": "https://localhost:8080/"
        },
        "id": "xR7JpGlOvWi9",
        "outputId": "9b2e2707-0db5-4856-85ba-87f9c28f4894"
      },
      "source": [
        "call_price= discount_factor*(sum(call_payoff)/number_of_simulations)\n",
        "print(\"Call option price is\",call_price)"
      ],
      "execution_count": null,
      "outputs": [
        {
          "output_type": "stream",
          "text": [
            "Call option price is 347.61490533585214\n"
          ],
          "name": "stdout"
        }
      ]
    },
    {
      "cell_type": "markdown",
      "metadata": {
        "id": "HZ54qWGn5EJW"
      },
      "source": [
        "The call price obtained from the monte carlo simulation is 347.61 and the current market price for the call option is 412 which means the call option is overpriced. So I will sell this option."
      ]
    },
    {
      "cell_type": "markdown",
      "metadata": {
        "id": "42idXMh73b1C"
      },
      "source": [
        "**For a European Put Option**"
      ]
    },
    {
      "cell_type": "code",
      "metadata": {
        "id": "u719PZAi22i8"
      },
      "source": [
        "def put(stock_price_at_T,strike_price):\n",
        "  return max(0,strike_price-stock_price_at_T)"
      ],
      "execution_count": null,
      "outputs": []
    },
    {
      "cell_type": "code",
      "metadata": {
        "id": "6BOPNFqJ22Xc"
      },
      "source": [
        "put_implied_vol=0.2105"
      ],
      "execution_count": null,
      "outputs": []
    },
    {
      "cell_type": "code",
      "metadata": {
        "id": "p_CiA8Kc32nr"
      },
      "source": [
        "put_payoff=[]"
      ],
      "execution_count": null,
      "outputs": []
    },
    {
      "cell_type": "code",
      "metadata": {
        "id": "p-SsjhYPvWNj"
      },
      "source": [
        "for i in range(number_of_simulations):\n",
        "  stock_price_at_T= mcs(stock_price,put_implied_vol,rate_of_return,time_to_maturity)\n",
        "  put_payoff.append(put(stock_price_at_T,strike_price))"
      ],
      "execution_count": null,
      "outputs": []
    },
    {
      "cell_type": "code",
      "metadata": {
        "colab": {
          "base_uri": "https://localhost:8080/"
        },
        "id": "OtRDnNC62C4Q",
        "outputId": "bdc0f4d2-75a3-44ab-cf3c-2068b3e4805b"
      },
      "source": [
        "put_price= discount_factor*(sum(put_payoff)/number_of_simulations)\n",
        "print(\"Put option price is\",put_price)"
      ],
      "execution_count": null,
      "outputs": [
        {
          "output_type": "stream",
          "text": [
            "Put option price is 286.8232758040405\n"
          ],
          "name": "stdout"
        }
      ]
    },
    {
      "cell_type": "markdown",
      "metadata": {
        "id": "BYPo959W4lhD"
      },
      "source": [
        "The put price obtained from the monte carlo simulation is 286.82 and the  current market price is 291 which means the put option is overpriced. So I will sell this option."
      ]
    }
  ]
}